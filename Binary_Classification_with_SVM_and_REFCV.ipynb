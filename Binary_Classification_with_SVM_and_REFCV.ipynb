{
  "cells": [
    {
      "cell_type": "markdown",
      "metadata": {
        "id": "YHovOv2SuPSD"
      },
      "source": [
        "**Import the libraries and the dataset**"
      ]
    },
    {
      "cell_type": "code",
      "execution_count": null,
      "metadata": {
        "id": "CIyCPAhJuPSF"
      },
      "outputs": [],
      "source": [
        "import numpy as np \n",
        "import pandas as pd\n",
        "import matplotlib.pyplot as plt\n",
        "import seaborn as sns"
      ]
    },
    {
      "cell_type": "code",
      "execution_count": null,
      "metadata": {
        "id": "d6v_whafuPSK"
      },
      "outputs": [],
      "source": [
        "data = pd.read_csv('/content/drive/MyDrive/ELOC-SW/features/features_original.csv')"
      ]
    },
    {
      "cell_type": "code",
      "execution_count": null,
      "metadata": {
        "id": "5SGt9zE7uPSR"
      },
      "outputs": [],
      "source": [
        "pd.set_option('display.max_columns', None)"
      ]
    },
    {
      "cell_type": "code",
      "execution_count": null,
      "metadata": {
        "id": "FLBLtRvsuPSW"
      },
      "outputs": [],
      "source": [
        "data.head()"
      ]
    },
    {
      "cell_type": "code",
      "execution_count": null,
      "metadata": {
        "id": "Z0FwnTuuuPSb"
      },
      "outputs": [],
      "source": [
        "data.info()"
      ]
    },
    {
      "cell_type": "markdown",
      "metadata": {
        "id": "vA19KJlHuPSe"
      },
      "source": [
        "**Check for duplicated values**"
      ]
    },
    {
      "cell_type": "code",
      "execution_count": null,
      "metadata": {
        "id": "zEeXWCWcuPSf"
      },
      "outputs": [],
      "source": [
        "data.duplicated().any()"
      ]
    },
    {
      "cell_type": "markdown",
      "metadata": {
        "id": "KdF8om-puPSy"
      },
      "source": [
        "## Model Train, Test and Evaluation\n",
        "\n",
        "**Steps**\n",
        "\n",
        "- Train, test and evaluate an SVM model using **all the variables**.\n",
        "\n",
        "- Feature selection using Recursive Feature Elimination with Cross Validation (RFECV).\n",
        "\n",
        "- Train, test and evaluate the model with the **selected features**.\n",
        "\n",
        "- Compare the performance of the two models.\n"
      ]
    },
    {
      "cell_type": "markdown",
      "metadata": {
        "id": "4BGeNDmKuPS0"
      },
      "source": [
        "**Import the modules for Machine Learning**"
      ]
    },
    {
      "cell_type": "code",
      "execution_count": null,
      "metadata": {
        "id": "t_IZFtoyuPS0"
      },
      "outputs": [],
      "source": [
        "from sklearn.model_selection import train_test_split, cross_val_score, RepeatedStratifiedKFold,StratifiedKFold\n",
        "from sklearn.pipeline import Pipeline\n",
        "from sklearn.preprocessing import QuantileTransformer\n",
        "from sklearn.linear_model import LogisticRegression\n",
        "from sklearn.svm import SVC\n",
        "from sklearn.feature_selection import RFECV\n",
        "from sklearn.metrics import confusion_matrix, classification_report"
      ]
    },
    {
      "cell_type": "markdown",
      "metadata": {
        "id": "ot7TS-e0uPS0"
      },
      "source": [
        "### Train and test an SVM model **using all the variables**"
      ]
    },
    {
      "cell_type": "markdown",
      "metadata": {
        "id": "qlM4S94DuPS1"
      },
      "source": [
        "**Separate the independent variable from the dependent variable**"
      ]
    },
    {
      "cell_type": "code",
      "execution_count": null,
      "metadata": {
        "id": "0U4gRDwouPS1"
      },
      "outputs": [],
      "source": [
        "X_data = data.drop('feature_class', axis = 1)\n",
        "y = data['feature_class']"
      ]
    },
    {
      "cell_type": "markdown",
      "metadata": {
        "id": "xIftx0asuPS2"
      },
      "source": [
        "**Scale the independent variables using Quantile Transformer** (Uniform Distribution)"
      ]
    },
    {
      "cell_type": "code",
      "execution_count": null,
      "metadata": {
        "id": "080jFGg-uPS3"
      },
      "outputs": [],
      "source": [
        "std = QuantileTransformer(n_quantiles=100)"
      ]
    },
    {
      "cell_type": "code",
      "execution_count": null,
      "metadata": {
        "id": "N3F13TnPuPS3"
      },
      "outputs": [],
      "source": [
        "X = X_data.values\n",
        "\n",
        "# ensure inputs are floats \n",
        "X = X.astype('float32')\n",
        "\n",
        "X = std.fit_transform(X)"
      ]
    },
    {
      "cell_type": "markdown",
      "metadata": {
        "id": "_Ii1EvNquPS1"
      },
      "source": [
        "**Split the dataset in train(80%), and test(20%) set**"
      ]
    },
    {
      "cell_type": "code",
      "execution_count": null,
      "metadata": {
        "id": "EHKce5fcuPS2"
      },
      "outputs": [],
      "source": [
        "X_train, X_test, y_train, y_test = train_test_split(X, y, test_size=0.2, random_state=1, stratify=y)\n",
        "# X_train, X_test, y_train, y_test = train_test_split(X, y, test_size = 0.2, random_state = 10)"
      ]
    },
    {
      "cell_type": "markdown",
      "metadata": {
        "id": "SPjdEdlpuPS4"
      },
      "source": [
        "**Create an SVC object and train fit it to the train set**"
      ]
    },
    {
      "cell_type": "code",
      "execution_count": null,
      "metadata": {
        "id": "Pp5QfW6BuPS4"
      },
      "outputs": [],
      "source": [
        "svc = SVC()"
      ]
    },
    {
      "cell_type": "code",
      "execution_count": null,
      "metadata": {
        "id": "mBE4HGWkuPS4"
      },
      "outputs": [],
      "source": [
        "svc.fit(X_train, y_train)"
      ]
    },
    {
      "cell_type": "code",
      "execution_count": null,
      "metadata": {
        "id": "qC9c2ymbuPS5"
      },
      "outputs": [],
      "source": [
        "y_train_predict = svc.predict(X_train)"
      ]
    },
    {
      "cell_type": "code",
      "execution_count": null,
      "metadata": {
        "id": "-Gf07Pc4uPS5"
      },
      "outputs": [],
      "source": [
        "sns.heatmap(confusion_matrix(y_train, y_train_predict), \n",
        "            annot = True)\n",
        "plt.title('Confusion matrix SVM (train set)', \n",
        "          size = 13)\n",
        "plt.ylabel('Real Values', size = 11)\n",
        "plt.xlabel('Predicted Values', size = 11)\n",
        "plt.show()"
      ]
    },
    {
      "cell_type": "code",
      "execution_count": null,
      "metadata": {
        "id": "_5Dt35z1uPS5"
      },
      "outputs": [],
      "source": [
        "print(classification_report(y_train, y_train_predict))"
      ]
    },
    {
      "cell_type": "markdown",
      "metadata": {
        "id": "hq8xCkJmuPS6"
      },
      "source": [
        "**Perform cross-validation to evaluate the model**\n",
        "\n",
        "I will use RepeatedStratifiedKFold to cross validate the model on the train set.\n",
        "\n",
        "I will use 5 splits and 10 repetitions. \n",
        "\n",
        "- The dataset will be split in five parts. Four parts will be used to train the model and one part to test it. Each of the five part will in turn be used as test set, so one repetition produces five evaluation scores.\n",
        "\n",
        "- The steps above will be repeated 10 times for a total of 50 train and test\n",
        "\n",
        "- Get the average accuracy.\n",
        "\n",
        "- I am also interested in the recall so I will perform the cross validation process again using recall as scoring metric."
      ]
    },
    {
      "cell_type": "code",
      "execution_count": null,
      "metadata": {
        "id": "W_4vu2MvuPS6"
      },
      "outputs": [],
      "source": [
        "cv = StratifiedKFold(2)"
      ]
    },
    {
      "cell_type": "code",
      "execution_count": null,
      "metadata": {
        "id": "ysTMWGlVuPS6"
      },
      "outputs": [],
      "source": [
        "accuracies = cross_val_score(svc, X = X_train, y = y_train, \n",
        "                             scoring = 'accuracy', cv = cv, \n",
        "                             n_jobs = -1)"
      ]
    },
    {
      "cell_type": "markdown",
      "metadata": {
        "id": "SPeOITVquPS7"
      },
      "source": [
        "**Accuracy**"
      ]
    },
    {
      "cell_type": "code",
      "execution_count": null,
      "metadata": {
        "id": "vu1hLSYGuPS7"
      },
      "outputs": [],
      "source": [
        "print(f\"Accuracy:\\nmean: {accuracies.mean():.3f}, std: {accuracies.std():.3f}\")"
      ]
    },
    {
      "cell_type": "markdown",
      "metadata": {
        "id": "aHUCyhv8uPS7"
      },
      "source": [
        "**Recall**"
      ]
    },
    {
      "cell_type": "code",
      "execution_count": null,
      "metadata": {
        "id": "R9FtAsVIuPS8"
      },
      "outputs": [],
      "source": [
        "recalls_w = cross_val_score(svc, X = X_train, y = y_train, \n",
        "                            scoring = 'recall', cv = cv, \n",
        "                            n_jobs = -1)"
      ]
    },
    {
      "cell_type": "code",
      "execution_count": null,
      "metadata": {
        "id": "bXuBN2_OuPS8"
      },
      "outputs": [],
      "source": [
        "print(f\"Recall:\\nmean: {recalls_w.mean():.3f}, std: {recalls_w.std():.3f}\")"
      ]
    },
    {
      "cell_type": "markdown",
      "metadata": {
        "id": "5rh0Un9quPS8"
      },
      "source": [
        "Let's see the performance on the test set."
      ]
    },
    {
      "cell_type": "code",
      "execution_count": null,
      "metadata": {
        "id": "UWGOZzNUuPS9"
      },
      "outputs": [],
      "source": [
        "y_predict = svc.predict(X_test)"
      ]
    },
    {
      "cell_type": "code",
      "execution_count": null,
      "metadata": {
        "id": "FE_Wq105uPS9"
      },
      "outputs": [],
      "source": [
        "sns.heatmap(confusion_matrix(y_test, y_predict), \n",
        "            annot = True)\n",
        "plt.title('Confusion matrix SVM (test set)', \n",
        "          size = 13)\n",
        "plt.ylabel('Real Values', size = 11)\n",
        "plt.xlabel('Predicted Values', size = 11)\n",
        "plt.show()"
      ]
    },
    {
      "cell_type": "code",
      "execution_count": null,
      "metadata": {
        "id": "6oD-V30vuPS9"
      },
      "outputs": [],
      "source": [
        "print(classification_report(y_test, y_predict))"
      ]
    },
    {
      "cell_type": "markdown",
      "metadata": {
        "id": "hwydIKFduPS-"
      },
      "source": [
        "## Feature selection and second model training"
      ]
    },
    {
      "cell_type": "markdown",
      "metadata": {
        "id": "0qfP6_V2uPS_"
      },
      "source": [
        "\n",
        "- Use Recursive Feature Elimination with Cross-Validation to select the most relevant features for the model."
      ]
    },
    {
      "cell_type": "code",
      "execution_count": null,
      "metadata": {
        "id": "r2RpOYFXuPTC"
      },
      "outputs": [],
      "source": [
        "X1_train, X1_test, y1_train, y1_test = train_test_split(X, y, test_size=0.2, random_state=1, stratify=y)\n",
        "# X1_train, X1_test, y1_train, y1_test = train_test_split(X, y,\n",
        "#                                                         test_size = 0.2, \n",
        "#                                                         random_state = 10)"
      ]
    },
    {
      "cell_type": "markdown",
      "metadata": {
        "id": "pVNTDqXOuPTD"
      },
      "source": [
        "**Recursive Feature Elimination Cross Validation (RFECV)**\n",
        "\n",
        "Recursive Feature Selection trains a model using all the features available and computes the importance of each feature in the model. The least important features are eliminated from the model and the process is repeated until it reaches the selected number of features. To implement RFE we need to select an algorithm and the number of feature we want to use.\n",
        "\n",
        "Because I do not know what the optimal number of features might be, I will use Recursive Feature Elimination with Cross Validation. In this case, the algorithm tries different combinations of variables and than selects the combination that returns the best mean score."
      ]
    },
    {
      "cell_type": "markdown",
      "metadata": {
        "id": "LZjdZ4PRuPTE"
      },
      "source": [
        "**Create an object for logistic regression and one for SVM**"
      ]
    },
    {
      "cell_type": "code",
      "execution_count": null,
      "metadata": {
        "id": "t1LpbZHCuPTE"
      },
      "outputs": [],
      "source": [
        "rfecv = RFECV(SVC(kernel=\"linear\"))\n",
        "svc1 = SVC()"
      ]
    },
    {
      "cell_type": "markdown",
      "metadata": {
        "id": "rUzwFEzpuPTE"
      },
      "source": [
        "**Create a pipeline for feature selection and model fitting**"
      ]
    },
    {
      "cell_type": "code",
      "execution_count": null,
      "metadata": {
        "id": "RwM4PO6juPTF"
      },
      "outputs": [],
      "source": [
        "pipeline = Pipeline(steps = [('Feature Selection', rfecv), \n",
        "                             ('Model', svc1)])"
      ]
    },
    {
      "cell_type": "markdown",
      "metadata": {
        "id": "Wv3q9CYFuPTF"
      },
      "source": [
        "**Let's use cross-validation to select the best features**"
      ]
    },
    {
      "cell_type": "code",
      "execution_count": null,
      "metadata": {
        "id": "4sfxUm8SuPTF"
      },
      "outputs": [],
      "source": [
        "rfecv.fit(X1_train, y1_train)"
      ]
    },
    {
      "cell_type": "code",
      "execution_count": null,
      "metadata": {
        "id": "BauaX3LGuPTG"
      },
      "outputs": [],
      "source": [
        "rfecv.n_features_"
      ]
    },
    {
      "cell_type": "markdown",
      "metadata": {
        "id": "NMPi7jCouPTG"
      },
      "source": [
        "\n",
        "Let's see which features contributed to the model."
      ]
    },
    {
      "cell_type": "code",
      "execution_count": null,
      "metadata": {
        "id": "dbuIH1tZuPTH"
      },
      "outputs": [],
      "source": [
        "features1 = pd.DataFrame(rfecv.support_, index = X_data.columns, \n",
        "                         columns = ['Features'])"
      ]
    },
    {
      "cell_type": "code",
      "execution_count": null,
      "metadata": {
        "id": "5c5eIx3NuPTH"
      },
      "outputs": [],
      "source": [
        "features = features1[features1['Features'] == True].index\n",
        "features"
      ]
    },
    {
      "cell_type": "markdown",
      "metadata": {
        "id": "C4uj7wHeuPTI"
      },
      "source": [
        "**Apply cross validation with the selected features**"
      ]
    },
    {
      "cell_type": "code",
      "execution_count": null,
      "metadata": {
        "id": "etRdMCi0uPTI"
      },
      "outputs": [],
      "source": [
        "cv = StratifiedKFold(2)"
      ]
    },
    {
      "cell_type": "code",
      "execution_count": null,
      "metadata": {
        "id": "M1csSj6GuPTI"
      },
      "outputs": [],
      "source": [
        "accuracies_rfe = cross_val_score(pipeline, X = X1_train, \n",
        "                                 y = y1_train, scoring = 'accuracy', \n",
        "                                 cv = cv, n_jobs = -1)"
      ]
    },
    {
      "cell_type": "markdown",
      "metadata": {
        "id": "dgOMwXhQuPTJ"
      },
      "source": [
        "**Accuracy**"
      ]
    },
    {
      "cell_type": "code",
      "execution_count": null,
      "metadata": {
        "id": "VSJWlV-nuPTJ"
      },
      "outputs": [],
      "source": [
        "print(f\"Accuracy:\\nmean: {accuracies_rfe.mean():.3f}, std: {accuracies_rfe.std():.3f}\")"
      ]
    },
    {
      "cell_type": "markdown",
      "metadata": {
        "id": "S3AMlex2uPTJ"
      },
      "source": [
        "**Recall**"
      ]
    },
    {
      "cell_type": "code",
      "execution_count": null,
      "metadata": {
        "id": "nzAWTYyOuPTK"
      },
      "outputs": [],
      "source": [
        "recalls_rfe = cross_val_score(pipeline, X = X1_train, \n",
        "                              y = y1_train, scoring = 'recall', \n",
        "                              cv = cv, n_jobs = -1)"
      ]
    },
    {
      "cell_type": "code",
      "execution_count": null,
      "metadata": {
        "id": "t_a81mnauPTK"
      },
      "outputs": [],
      "source": [
        "print(f\"Recall:\\nmean: {recalls_rfe.mean():.3f}, std: {recalls_rfe.std():.3f}\")"
      ]
    },
    {
      "cell_type": "markdown",
      "metadata": {
        "id": "H_pYCGntuPTM"
      },
      "source": [
        "Performance on the test set using the features selected. I will take the train and test set I created before and keep only the features selected by RFECV."
      ]
    },
    {
      "cell_type": "code",
      "execution_count": null,
      "metadata": {
        "id": "lg_RiPj7uPTN"
      },
      "outputs": [],
      "source": [
        "X1_train_lr = pd.DataFrame(X1_train)"
      ]
    },
    {
      "cell_type": "code",
      "execution_count": null,
      "metadata": {
        "id": "h6_quvXzuPTP"
      },
      "outputs": [],
      "source": [
        "X1_test_lr = pd.DataFrame(X1_test)"
      ]
    },
    {
      "cell_type": "markdown",
      "metadata": {
        "id": "WSX7xHwCuPTR"
      },
      "source": [
        "**Fit a new the model to the train set with selected variables**"
      ]
    },
    {
      "cell_type": "code",
      "execution_count": null,
      "metadata": {
        "id": "UILKe6ShuPTS"
      },
      "outputs": [],
      "source": [
        "svc2 = SVC()"
      ]
    },
    {
      "cell_type": "code",
      "execution_count": null,
      "metadata": {
        "id": "XVH4mJhMuPTS"
      },
      "outputs": [],
      "source": [
        "svc2.fit(X1_train_lr, y1_train)"
      ]
    },
    {
      "cell_type": "code",
      "execution_count": null,
      "metadata": {
        "id": "J2oefMtquPTT"
      },
      "outputs": [],
      "source": [
        "X1_train_lr.shape\n"
      ]
    },
    {
      "cell_type": "markdown",
      "metadata": {
        "id": "nGqsFpK1uPTU"
      },
      "source": [
        "**Let's see how the model performs on the test set**"
      ]
    },
    {
      "cell_type": "code",
      "execution_count": null,
      "metadata": {
        "id": "Ccyow3SFuPTU"
      },
      "outputs": [],
      "source": [
        "y1_predict = svc2.predict(X1_test_lr)"
      ]
    },
    {
      "cell_type": "code",
      "execution_count": null,
      "metadata": {
        "id": "GQofdSy-uPTV"
      },
      "outputs": [],
      "source": [
        "sns.heatmap(confusion_matrix(y1_test, y1_predict), annot = True)\n",
        "plt.title('Confusion matrix SVM-selected (test set)', \n",
        "          size = 13)\n",
        "plt.ylabel('Real Values', size = 11)\n",
        "plt.xlabel('Predicted Values', size = 11)\n",
        "plt.show()"
      ]
    },
    {
      "cell_type": "code",
      "execution_count": null,
      "metadata": {
        "id": "3Cj7TXEuuPTW"
      },
      "outputs": [],
      "source": [
        "print(classification_report(y1_test, y1_predict))"
      ]
    },
    {
      "cell_type": "markdown",
      "metadata": {
        "id": "2EtswLhMuPTX"
      },
      "source": [
        "**Compare the results of cross validation of the model with all variables and the model with selected variables.**"
      ]
    },
    {
      "cell_type": "code",
      "execution_count": null,
      "metadata": {
        "id": "WazYGFniuPTX"
      },
      "outputs": [],
      "source": [
        "models = pd.DataFrame({'SVM': {'accuracy': accuracies.mean(), 'a_std': accuracies.std(), \n",
        "                    'recall': recalls_w.mean(), 'r_std': recalls_w.std()},\n",
        "                       \n",
        "                      'SVM_selected': {'accuracy': accuracies_rfe.mean(), 'a_std': accuracies_rfe.std(),\n",
        "                      'recall': recalls_rfe.mean(), 'r_std': recalls_rfe.std()}})"
      ]
    },
    {
      "cell_type": "code",
      "execution_count": null,
      "metadata": {
        "id": "XOKZwjsluPTX"
      },
      "outputs": [],
      "source": [
        "models.T"
      ]
    }
  ],
  "metadata": {
    "colab": {
      "collapsed_sections": [],
      "name": "Binary Classification with SVM and REFCV.ipynb",
      "provenance": []
    },
    "kernelspec": {
      "display_name": "Python 3",
      "language": "python",
      "name": "python3"
    },
    "language_info": {
      "codemirror_mode": {
        "name": "ipython",
        "version": 3
      },
      "file_extension": ".py",
      "mimetype": "text/x-python",
      "name": "python",
      "nbconvert_exporter": "python",
      "pygments_lexer": "ipython3",
      "version": "3.6.4"
    }
  },
  "nbformat": 4,
  "nbformat_minor": 0
}